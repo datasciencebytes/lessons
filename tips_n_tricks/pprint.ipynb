{
 "cells": [
  {
   "attachments": {
    "Screenshot from 2023-11-16 21-47-57.png": {
     "image/png": "[encoded data removed]"
    }
   },
   "cell_type": "markdown",
   "metadata": {},
   "source": [
    "**@datasciencebytes**\n",
    "\n",
    "\n",
    "![Screenshot from 2023-11-16 21-47-57.png](<attachment:Screenshot from 2023-11-16 21-47-57.png>)"
   ]
  },
  {
   "cell_type": "code",
   "execution_count": 5,
   "metadata": {},
   "outputs": [],
   "source": [
    "from pprint import pprint"
   ]
  },
  {
   "cell_type": "code",
   "execution_count": 6,
   "metadata": {},
   "outputs": [],
   "source": [
    "data = {\n",
    "    'name': 'John Doe',\n",
    "    'age': 30,\n",
    "    'email': 'john@example.com',\n",
    "    'address': {\n",
    "        'street': '123 Main St',\n",
    "        'city': 'Anytown',\n",
    "        'zipcode': '12345'\n",
    "    },\n",
    "    'interests': ['programming', 'reading', 'hiking'],\n",
    "    'is_student': 'false'\n",
    "}"
   ]
  },
  {
   "cell_type": "code",
   "execution_count": 7,
   "metadata": {},
   "outputs": [
    {
     "name": "stdout",
     "output_type": "stream",
     "text": [
      "{'name': 'John Doe', 'age': 30, 'email': 'john@example.com', 'address': {'street': '123 Main St', 'city': 'Anytown', 'zipcode': '12345'}, 'interests': ['programming', 'reading', 'hiking'], 'is_student': 'false'}\n"
     ]
    }
   ],
   "source": [
    "print(data)"
   ]
  },
  {
   "cell_type": "code",
   "execution_count": 8,
   "metadata": {},
   "outputs": [
    {
     "name": "stdout",
     "output_type": "stream",
     "text": [
      "{'address': {'city': 'Anytown', 'street': '123 Main St', 'zipcode': '12345'},\n",
      " 'age': 30,\n",
      " 'email': 'john@example.com',\n",
      " 'interests': ['programming', 'reading', 'hiking'],\n",
      " 'is_student': 'false',\n",
      " 'name': 'John Doe'}\n"
     ]
    }
   ],
   "source": [
    "pprint(data)"
   ]
  }
 ],
 "metadata": {
  "kernelspec": {
   "display_name": "mit",
   "language": "python",
   "name": "python3"
  },
  "language_info": {
   "codemirror_mode": {
    "name": "ipython",
    "version": 3
   },
   "file_extension": ".py",
   "mimetype": "text/x-python",
   "name": "python",
   "nbconvert_exporter": "python",
   "pygments_lexer": "ipython3",
   "version": "3.9.16"
  }
 },
 "nbformat": 4,
 "nbformat_minor": 2
}
