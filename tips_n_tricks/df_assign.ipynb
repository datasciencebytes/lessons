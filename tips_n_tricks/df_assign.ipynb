{
 "cells": [
  {
   "attachments": {
    "Screenshot from 2023-11-16 21-47-57.png": {
     "image/png": "[encoded data removed]"
    }
   },
   "cell_type": "markdown",
   "metadata": {},
   "source": [
    "**@datasciencebytes**\n",
    "\n",
    "\n",
    "![Screenshot from 2023-11-16 21-47-57.png](<attachment:Screenshot from 2023-11-16 21-47-57.png>)"
   ]
  },
  {
   "cell_type": "code",
   "execution_count": 11,
   "metadata": {},
   "outputs": [],
   "source": [
    "import pandas as pd"
   ]
  },
  {
   "cell_type": "code",
   "execution_count": 12,
   "metadata": {},
   "outputs": [
    {
     "data": {
      "text/html": [
       "<div>\n",
       "<style scoped>\n",
       "    .dataframe tbody tr th:only-of-type {\n",
       "        vertical-align: middle;\n",
       "    }\n",
       "\n",
       "    .dataframe tbody tr th {\n",
       "        vertical-align: top;\n",
       "    }\n",
       "\n",
       "    .dataframe thead th {\n",
       "        text-align: right;\n",
       "    }\n",
       "</style>\n",
       "<table border=\"1\" class=\"dataframe\">\n",
       "  <thead>\n",
       "    <tr style=\"text-align: right;\">\n",
       "      <th></th>\n",
       "      <th>names</th>\n",
       "      <th>age</th>\n",
       "      <th>tc</th>\n",
       "    </tr>\n",
       "  </thead>\n",
       "  <tbody>\n",
       "    <tr>\n",
       "      <th>0</th>\n",
       "      <td>Alice</td>\n",
       "      <td>25</td>\n",
       "      <td>{'blood_pressure': '120/80', 'heart_rate': 75}</td>\n",
       "    </tr>\n",
       "    <tr>\n",
       "      <th>1</th>\n",
       "      <td>Bob</td>\n",
       "      <td>30</td>\n",
       "      <td>{'blood_pressure': '130/85', 'heart_rate': 80}</td>\n",
       "    </tr>\n",
       "    <tr>\n",
       "      <th>2</th>\n",
       "      <td>Charlie</td>\n",
       "      <td>22</td>\n",
       "      <td>{'blood_pressure': '115/75', 'heart_rate': 70}</td>\n",
       "    </tr>\n",
       "    <tr>\n",
       "      <th>3</th>\n",
       "      <td>David</td>\n",
       "      <td>28</td>\n",
       "      <td>{'blood_pressure': '125/82', 'heart_rate': 72}</td>\n",
       "    </tr>\n",
       "    <tr>\n",
       "      <th>4</th>\n",
       "      <td>Emma</td>\n",
       "      <td>35</td>\n",
       "      <td>{'blood_pressure': '140/90', 'heart_rate': 78}</td>\n",
       "    </tr>\n",
       "  </tbody>\n",
       "</table>\n",
       "</div>"
      ],
      "text/plain": [
       "     names  age                                              tc\n",
       "0    Alice   25  {'blood_pressure': '120/80', 'heart_rate': 75}\n",
       "1      Bob   30  {'blood_pressure': '130/85', 'heart_rate': 80}\n",
       "2  Charlie   22  {'blood_pressure': '115/75', 'heart_rate': 70}\n",
       "3    David   28  {'blood_pressure': '125/82', 'heart_rate': 72}\n",
       "4     Emma   35  {'blood_pressure': '140/90', 'heart_rate': 78}"
      ]
     },
     "execution_count": 12,
     "metadata": {},
     "output_type": "execute_result"
    }
   ],
   "source": [
    "# Data for the DataFrame\n",
    "data = {\n",
    "    'names': ['Alice', 'Bob', 'Charlie', 'David', 'Emma'],\n",
    "    'age': [25, 30, 22, 28, 35],\n",
    "    'tc': [\n",
    "        {'blood_pressure': '120/80', 'heart_rate': 75},\n",
    "        {'blood_pressure': '130/85', 'heart_rate': 80},\n",
    "        {'blood_pressure': '115/75', 'heart_rate': 70},\n",
    "        {'blood_pressure': '125/82', 'heart_rate': 72},\n",
    "        {'blood_pressure': '140/90', 'heart_rate': 78}\n",
    "    ]\n",
    "}\n",
    "# Creating the DataFrame\n",
    "df = pd.DataFrame(data)\n",
    "# Displaying the DataFrame\n",
    "df"
   ]
  },
  {
   "cell_type": "code",
   "execution_count": 13,
   "metadata": {},
   "outputs": [
    {
     "data": {
      "text/html": [
       "<div>\n",
       "<style scoped>\n",
       "    .dataframe tbody tr th:only-of-type {\n",
       "        vertical-align: middle;\n",
       "    }\n",
       "\n",
       "    .dataframe tbody tr th {\n",
       "        vertical-align: top;\n",
       "    }\n",
       "\n",
       "    .dataframe thead th {\n",
       "        text-align: right;\n",
       "    }\n",
       "</style>\n",
       "<table border=\"1\" class=\"dataframe\">\n",
       "  <thead>\n",
       "    <tr style=\"text-align: right;\">\n",
       "      <th></th>\n",
       "      <th>names</th>\n",
       "      <th>age</th>\n",
       "      <th>tc</th>\n",
       "      <th>blood_pressure</th>\n",
       "      <th>heart_rate</th>\n",
       "    </tr>\n",
       "  </thead>\n",
       "  <tbody>\n",
       "    <tr>\n",
       "      <th>0</th>\n",
       "      <td>Alice</td>\n",
       "      <td>25</td>\n",
       "      <td>{'blood_pressure': '120/80', 'heart_rate': 75}</td>\n",
       "      <td>120/80</td>\n",
       "      <td>75</td>\n",
       "    </tr>\n",
       "    <tr>\n",
       "      <th>1</th>\n",
       "      <td>Bob</td>\n",
       "      <td>30</td>\n",
       "      <td>{'blood_pressure': '130/85', 'heart_rate': 80}</td>\n",
       "      <td>130/85</td>\n",
       "      <td>80</td>\n",
       "    </tr>\n",
       "    <tr>\n",
       "      <th>2</th>\n",
       "      <td>Charlie</td>\n",
       "      <td>22</td>\n",
       "      <td>{'blood_pressure': '115/75', 'heart_rate': 70}</td>\n",
       "      <td>115/75</td>\n",
       "      <td>70</td>\n",
       "    </tr>\n",
       "    <tr>\n",
       "      <th>3</th>\n",
       "      <td>David</td>\n",
       "      <td>28</td>\n",
       "      <td>{'blood_pressure': '125/82', 'heart_rate': 72}</td>\n",
       "      <td>125/82</td>\n",
       "      <td>72</td>\n",
       "    </tr>\n",
       "    <tr>\n",
       "      <th>4</th>\n",
       "      <td>Emma</td>\n",
       "      <td>35</td>\n",
       "      <td>{'blood_pressure': '140/90', 'heart_rate': 78}</td>\n",
       "      <td>140/90</td>\n",
       "      <td>78</td>\n",
       "    </tr>\n",
       "  </tbody>\n",
       "</table>\n",
       "</div>"
      ],
      "text/plain": [
       "     names  age                                              tc  \\\n",
       "0    Alice   25  {'blood_pressure': '120/80', 'heart_rate': 75}   \n",
       "1      Bob   30  {'blood_pressure': '130/85', 'heart_rate': 80}   \n",
       "2  Charlie   22  {'blood_pressure': '115/75', 'heart_rate': 70}   \n",
       "3    David   28  {'blood_pressure': '125/82', 'heart_rate': 72}   \n",
       "4     Emma   35  {'blood_pressure': '140/90', 'heart_rate': 78}   \n",
       "\n",
       "  blood_pressure  heart_rate  \n",
       "0         120/80          75  \n",
       "1         130/85          80  \n",
       "2         115/75          70  \n",
       "3         125/82          72  \n",
       "4         140/90          78  "
      ]
     },
     "execution_count": 13,
     "metadata": {},
     "output_type": "execute_result"
    }
   ],
   "source": [
    "df.assign(**df.tc.apply(pd.Series))"
   ]
  }
 ],
 "metadata": {
  "kernelspec": {
   "display_name": "mit",
   "language": "python",
   "name": "python3"
  },
  "language_info": {
   "codemirror_mode": {
    "name": "ipython",
    "version": 3
   },
   "file_extension": ".py",
   "mimetype": "text/x-python",
   "name": "python",
   "nbconvert_exporter": "python",
   "pygments_lexer": "ipython3",
   "version": "3.9.16"
  }
 },
 "nbformat": 4,
 "nbformat_minor": 2
}
